{
 "cells": [
  {
   "cell_type": "markdown",
   "metadata": {},
   "source": [
    "# 1.Introduction\n",
    "这是一个在MNIST数据集上训练的用于数字识别的5层顺序卷积神经网络。我选择使用keras API（Tensorflow后端）构建它，这非常直观。首先，我将准备数据（手写数字图像），然后我将专注于CNN建模和评估。\n",
    "我在2h30在单个CPU（i52500k）上训练了这个CNN，达到了99.671%的准确率。对于那些拥有>=3.0 GPU功能（从GTX 650到最近的GPU）的人，您可以将tenorflow-gpu与keras一起使用。计算会快得多！！！\n",
    "出于计算原因，我将步数（纪元）设置为2，如果您想达到99+%的精度，请将其设置为30。  \n",
    "本笔记本分为三个主要部分：  \n",
    "数据准备  \n",
    "CNN建模与评估  \n",
    "结果预测和提交  "
   ]
  },
  {
   "cell_type": "code",
   "execution_count": 1,
   "metadata": {},
   "outputs": [
    {
     "name": "stderr",
     "output_type": "stream",
     "text": [
      "2024-01-24 11:02:33.576790: E external/local_xla/xla/stream_executor/cuda/cuda_dnn.cc:9261] Unable to register cuDNN factory: Attempting to register factory for plugin cuDNN when one has already been registered\n",
      "2024-01-24 11:02:33.576829: E external/local_xla/xla/stream_executor/cuda/cuda_fft.cc:607] Unable to register cuFFT factory: Attempting to register factory for plugin cuFFT when one has already been registered\n",
      "2024-01-24 11:02:33.578223: E external/local_xla/xla/stream_executor/cuda/cuda_blas.cc:1515] Unable to register cuBLAS factory: Attempting to register factory for plugin cuBLAS when one has already been registered\n",
      "2024-01-24 11:02:33.587475: I tensorflow/core/platform/cpu_feature_guard.cc:182] This TensorFlow binary is optimized to use available CPU instructions in performance-critical operations.\n",
      "To enable the following instructions: AVX2 FMA, in other operations, rebuild TensorFlow with the appropriate compiler flags.\n",
      "2024-01-24 11:02:34.744855: W tensorflow/compiler/tf2tensorrt/utils/py_utils.cc:38] TF-TRT Warning: Could not find TensorRT\n"
     ]
    }
   ],
   "source": [
    "import pandas as pd\n",
    "import numpy as np\n",
    "import matplotlib.pyplot as plt\n",
    "import matplotlib.image as mpimg\n",
    "import seaborn as sns\n",
    "%matplotlib inline\n",
    "\n",
    "np.random.seed(2)\n",
    "\n",
    "from sklearn.model_selection import train_test_split\n",
    "from sklearn.metrics import confusion_matrix\n",
    "import itertools\n",
    "\n",
    "from keras.utils import to_categorical # convert to one-hot-encoding\n",
    "from keras.models import Sequential\n",
    "from keras.layers import Dense, Dropout, Flatten, Conv2D, MaxPool2D\n",
    "from keras.optimizers import RMSprop\n",
    "from keras.preprocessing.image import ImageDataGenerator\n",
    "from keras.callbacks import ReduceLROnPlateau\n",
    "\n",
    "\n",
    "sns.set(style='white', context='notebook', palette='deep')"
   ]
  },
  {
   "cell_type": "markdown",
   "metadata": {},
   "source": [
    "# 2.Data preparation\n",
    "## 2.1 Load data"
   ]
  },
  {
   "cell_type": "code",
   "execution_count": 2,
   "metadata": {},
   "outputs": [],
   "source": [
    "# Load the data\n",
    "train = pd.read_csv(\"./digit-recognizer/train.csv\")\n",
    "test = pd.read_csv(\"./digit-recognizer/test.csv\")\n",
    "# train = pd.read_csv(\"./digit-recognizer/train.csv\", nrows = 2000)\n",
    "# test = pd.read_csv(\"./digit-recognizer/test.csv\", nrows = 2000)"
   ]
  },
  {
   "cell_type": "code",
   "execution_count": 3,
   "metadata": {},
   "outputs": [
    {
     "data": {
      "text/plain": [
       "label\n",
       "1    4684\n",
       "7    4401\n",
       "3    4351\n",
       "9    4188\n",
       "2    4177\n",
       "6    4137\n",
       "0    4132\n",
       "4    4072\n",
       "8    4063\n",
       "5    3795\n",
       "Name: count, dtype: int64"
      ]
     },
     "execution_count": 3,
     "metadata": {},
     "output_type": "execute_result"
    }
   ],
   "source": [
    "# 将训练数据集中的\"label\"列提取出来，并赋值给变量Y_train。这表示目标变量（或标签），它包含了训练样本的正确分类。\n",
    "Y_train = train[\"label\"]\n",
    "# 这一行代码从训练数据集中删除了\"label\"列，并将剩余的特征数据赋值给变量X_train。\n",
    "X_train = train.drop(labels = [\"label\"],axis = 1) \n",
    "# 将名为train的数据集从内存中删除，以释放一些空间。\n",
    "del train \n",
    "# 使用Seaborn库绘制了Y_train中不同类别的计数直方图。\n",
    "# g = sns.countplot(X_train)\n",
    "# 计算了Y_train中每个类别的样本数量，并返回一个包含每个类别及其对应样本数量的Series对象。\n",
    "Y_train.value_counts()\n",
    "# 10个数的频率相差不大"
   ]
  },
  {
   "cell_type": "markdown",
   "metadata": {},
   "source": [
    "## 2.2 Check for null and missing values"
   ]
  },
  {
   "cell_type": "code",
   "execution_count": 4,
   "metadata": {},
   "outputs": [
    {
     "data": {
      "text/plain": [
       "count       784\n",
       "unique        1\n",
       "top       False\n",
       "freq        784\n",
       "dtype: object"
      ]
     },
     "execution_count": 4,
     "metadata": {},
     "output_type": "execute_result"
    }
   ],
   "source": [
    "# Check the data\n",
    "# X_train.isnull(): 这一部分代码检查X_train中的每个元素是否为缺失值（NaN）。\n",
    "# any()方法在布尔值数据框的列上执行逻辑或操作，返回一个包含每列是否存在缺失值的布尔值Series。\n",
    "# describe()方法计算布尔值Series的描述性统计信息\n",
    "X_train.isnull().any().describe()\n",
    "# count：表示非缺失值的数量。\n",
    "# unique：表示唯一值的数量。\n",
    "# top：表示出现频率最高的值。\n",
    "# freq：表示出现频率最高的值的频率。\n",
    "# dtype：表示数据类型。"
   ]
  },
  {
   "cell_type": "code",
   "execution_count": 5,
   "metadata": {},
   "outputs": [
    {
     "data": {
      "text/plain": [
       "count       784\n",
       "unique        1\n",
       "top       False\n",
       "freq        784\n",
       "dtype: object"
      ]
     },
     "execution_count": 5,
     "metadata": {},
     "output_type": "execute_result"
    }
   ],
   "source": [
    "test.isnull().any().describe()"
   ]
  },
  {
   "cell_type": "markdown",
   "metadata": {},
   "source": [
    "我检查损坏的图像（内部缺少值）。\n",
    "训练和测试数据集中没有缺失值。所以我们可以安全地继续。\n",
    "\n",
    "## 2.3 Normalization\n",
    "我们执行灰度归一化以减少光照差异的影响。\n",
    "此外，CNN在[0…1]数据上的转换速度比在[0…255]上的转换速度更快。"
   ]
  },
  {
   "cell_type": "code",
   "execution_count": 6,
   "metadata": {},
   "outputs": [],
   "source": [
    "# Normalize the data\n",
    "# 将X_train数据集中的所有像素值除以255.0。\n",
    "# 由于像素值通常范围在0到255之间（对应灰度图像的颜色强度），除以255.0可以将像素值缩放到0到1的范围内。\n",
    "X_train = X_train / 255.0\n",
    "test = test / 255.0"
   ]
  },
  {
   "cell_type": "markdown",
   "metadata": {},
   "source": [
    "## 2.4 Reshape"
   ]
  },
  {
   "cell_type": "code",
   "execution_count": 7,
   "metadata": {},
   "outputs": [],
   "source": [
    "# Reshape image in 3 dimensions (height = 28px, width = 28px , canal = 1)\n",
    "# 将X_train数据集的形状进行重塑。原本的X_train数据集是一个二维的矩阵，每一行代表一张图像，每一列代表图像的像素值。\n",
    "# 通过reshape()方法，将图像数据集重塑为一个四维矩阵，其中-1表示根据数据集大小自动计算行数，\n",
    "# 28表示图像的高度（28像素），28表示图像的宽度（28像素），1表示通道数（此处为灰度图像，通道数为1）。\n",
    "X_train = X_train.values.reshape(-1,28,28,1)\n",
    "test = test.values.reshape(-1,28,28,1)"
   ]
  },
  {
   "cell_type": "markdown",
   "metadata": {},
   "source": [
    "训练和测试图像（28px x 28px）已存入pandas。数据帧作为784个值的一维向量。我们将所有数据重塑为28x28x1 3D矩阵。\n",
    "Keras最终需要一个额外的维度来对应通道。MNIST图像是灰度缩放的，因此它只使用一个通道。对于RGB图像，有3个通道，我们会将784px向量重塑为28x28x3 3D矩阵。\n",
    "## 2.5 Label encoding"
   ]
  },
  {
   "cell_type": "code",
   "execution_count": 8,
   "metadata": {},
   "outputs": [],
   "source": [
    "# Encode labels to one hot vectors (ex : 2 -> [0,0,1,0,0,0,0,0,0,0])\n",
    "# to_categorical是一个函数或方法（可能是自定义的），用于将标签数据进行独热编码。\n",
    "# Y_train是原始的标签数据。\n",
    "# num_classes指定了独热编码后向量的长度，这里设为10，代表总共有10个类别。\n",
    "Y_train = to_categorical(Y_train, num_classes = 10)"
   ]
  },
  {
   "cell_type": "markdown",
   "metadata": {},
   "source": [
    "标签是从0到9的10位数字。我们需要将这些标签编码为一个热向量（例如：2->[0,0,1,0,0,0,0,0,0]）。\n",
    "## 2.6 Split training and valdiation set\n",
    "我选择将训练集分成两部分：一小部分（10%）成为评估模型的验证集，其余部分（90%）用于训练模型。\n",
    "\n",
    "由于我们有42 000个平衡标签的训练图像（参见2.1 Load数据），因此随机拆分训练集不会导致某些标签在验证集中过度表示。小心一些不平衡的数据集，简单的随机拆分可能会导致验证期间的评估不准确。\n",
    "\n",
    "为了避免这种情况，您可以在train_test_split函数中使用stratify=True选项（仅适用于>=0.17 sklearn版本）。"
   ]
  },
  {
   "cell_type": "code",
   "execution_count": 9,
   "metadata": {},
   "outputs": [],
   "source": [
    "# 通过设置随机种子，可以使随机过程在每次运行时都产生相同的结果，以保证实验的可重复性。\n",
    "random_seed = 2\n",
    "# 使用train_test_split函数将训练数据集X_train和标签数据集Y_train拆分成训练集X_train、验证集X_val、训练集标签Y_train和验证集标签Y_val。\n",
    "# X_train和Y_train是原始的训练数据集和标签数据集。\n",
    "# test_size = 0.1表示将10%的数据分配给验证集，即验证集占总训练数据的比例为10%。\n",
    "# random_state=random_seed表示使用之前设置的随机种子2来控制数据的拆分过程，确保每次运行时都得到相同的拆分结果。\n",
    "X_train, X_val, Y_train, Y_val = train_test_split(X_train, Y_train, test_size = 0.1, random_state=random_seed)"
   ]
  },
  {
   "cell_type": "code",
   "execution_count": 10,
   "metadata": {},
   "outputs": [
    {
     "data": {
      "image/png": "[encoded data removed]",
      "text/plain": [
       "<Figure size 640x480 with 1 Axes>"
      ]
     },
     "metadata": {},
     "output_type": "display_data"
    }
   ],
   "source": [
    "# 我们可以通过视觉化图像和查看标签来更好地理解其中一个例子。\n",
    "# X_train是训练集数据，其中索引为0的样本被选中进行可视化。\n",
    "# X_train[0]表示训练集中的第一个样本。\n",
    "# [:,:,0]表示选择第一个样本的所有行和列，并且选择通道为0的部分。\n",
    "# 这里的0表示灰度图像的通道索引，因为之前的操作将图像数据重塑为四维张量，其中最后一个维度是通道维度。\n",
    "g = plt.imshow(X_train[0][:,:,0])"
   ]
  },
  {
   "cell_type": "markdown",
   "metadata": {},
   "source": [
    "# 3.CNN\n",
    "## 3.1 Define the model\n",
    "我使用了Keras Sequential API，您只需一次添加一层，从输入开始。\n",
    "\n",
    "第一个是卷积（Conv2D）层。它就像一组可学习的过滤器。我选择为两个第一个卷积2D层设置32个过滤器，为最后两个设置64个过滤器。每个过滤器使用内核过滤器转换图像的一部分（由内核大小定义）。内核过滤器矩阵应用于整个图像。过滤器可以看作是图像的转换。\n",
    "\n",
    "CNN可以从这些转换后的图像（特征图）中分离出在任何地方都有用的特征。\n",
    "\n",
    "CNN中的第二个重要层是池化（MaxPool2D）层。该层简单地充当下采样过滤器。它查看2个相邻像素并选择最大值。这些用于降低计算成本，并在某种程度上减少过拟合。我们必须选择池化大小（即每次池化的区域大小）池化维度越高，下采样就越重要。\n",
    "\n",
    "结合卷积层和池化层，CNN能够结合局部特征并学习图像的更多全局特征。\n",
    "\n",
    "Dropout是一种正则化方法，对于每个训练样本，层中的一部分节点被随机忽略（将它们的重量设置为零）。这会随机丢弃网络的比例，并迫使网络以分布式方式学习特征。这种技术还提高了泛化并减少了过拟合。\n",
    "\n",
    "'relu'是整流器（激活函数max（0， x）。整流器激活函数用于向网络添加非线性。\n",
    "\n",
    "扁平化层用于将最终的特征图转换为一个单一的一维向量。需要这个扁平化步骤，以便您可以在一些卷积/最大池层之后使用完全连接的层。它结合了以前卷积层的所有发现的局部特征。\n",
    "\n",
    "最后，我在两个全连接（密集）层中使用了特征，这只是人工神经网络（ANN）分类器。在最后一层（密集（10，激活=\"softmax\"））中，网络输出每个类的概率分布。"
   ]
  },
  {
   "cell_type": "code",
   "execution_count": 11,
   "metadata": {},
   "outputs": [],
   "source": [
    "# Set the CNN model \n",
    "# my CNN architechture is In -> [[Conv2D->relu]*2 -> MaxPool2D -> Dropout]*2 -> Flatten -> Dense -> Dropout -> Out\n",
    "# 创建一个Sequential模型对象，用于构建CNN模型。\n",
    "model = Sequential()\n",
    "# 添加第一个卷积层。这个卷积层有32个滤波器（filters），每个滤波器的大小为5x5。\n",
    "# padding参数设置为'Same'，表示使用零填充来保持输入和输出的大小相同。激活函数使用ReLU。\n",
    "# input_shape参数指定输入的形状为(28, 28, 1)，即图像的高度为28像素，宽度为28像素，通道数为1（灰度图像）。\n",
    "model.add(Conv2D(filters = 32, kernel_size = (5,5),padding = 'Same', \n",
    "                 activation ='relu', input_shape = (28,28,1)))\n",
    "# 添加第二个卷积层，与前面的卷积层类似。\n",
    "model.add(Conv2D(filters = 32, kernel_size = (5,5),padding = 'Same', \n",
    "                 activation ='relu'))\n",
    "# 添加最大池化层。这个池化层的池化窗口大小为2x2，通过降低特征图的空间尺寸来减少参数数量。\n",
    "model.add(MaxPool2D(pool_size=(2,2)))\n",
    "# 添加一个dropout层，以减少过拟合。这里的0.25表示丢弃输入单元的比例为25%。\n",
    "model.add(Dropout(0.25))\n",
    "\n",
    "\n",
    "model.add(Conv2D(filters = 64, kernel_size = (3,3),padding = 'Same', \n",
    "                 activation ='relu'))\n",
    "model.add(Conv2D(filters = 64, kernel_size = (3,3),padding = 'Same', \n",
    "                 activation ='relu'))\n",
    "model.add(MaxPool2D(pool_size=(2,2), strides=(2,2)))\n",
    "model.add(Dropout(0.25))\n",
    "\n",
    "# 展平层（将多维输入展平为一维）\n",
    "model.add(Flatten())\n",
    "# 一个全连接层（256个神经元，使用ReLU激活函数）\n",
    "model.add(Dense(256, activation = \"relu\"))\n",
    "# 一个dropout层（丢弃输入单元的比例为50%）\n",
    "model.add(Dropout(0.5))\n",
    "# 一个全连接层（10个神经元，使用softmax激活函数）\n",
    "model.add(Dense(10, activation = \"softmax\"))"
   ]
  },
  {
   "cell_type": "markdown",
   "metadata": {},
   "source": [
    "## 3.2 Set the optimizer and annealer\n",
    "一旦我们的层被添加到模型中，我们需要设置一个分数函数、一个损失函数和一个优化算法。\n",
    "\n",
    "我们定义损失函数来衡量我们的模型在具有已知标签的图像上的表现有多差。它是观察标签和预测标签之间的错误率。我们使用一种特定的形式进行分类（>2类），称为“categorical_crossentropy”。\n",
    "\n",
    "最重要的功能是优化器。该函数将迭代改进参数（过滤内核值、权重和神经元的偏差……）以最大限度地减少损失。\n",
    "\n",
    "我选择了RMSprop（具有默认值），它是一个非常有效的优化器。RMSProp更新以非常简单的方式调整Adagrad方法，试图降低其激进的、单调递减的学习率。我们也可以使用随机梯度下降（'sgd'）优化器，但它比RMSprop慢。\n",
    "\n",
    "使用的度量函数“准确度”是评估我们模型的性能，这个度量函数与损失函数类似，只是训练模型时不使用度量评估的结果（仅用于评估）。\n",
    "\n",
    "为了使优化器更快地收敛并最接近损失函数的全局最小值，我使用了学习率（LR）的退火方法。学习率退火（learning rate annealing）是在训练过程中动态地调整学习率的一种策略。学习率是深度学习中一个重要的超参数，它控制着参数更新的步长，对模型的性能和收敛速度有着重要影响。\n",
    "学习率退火的目的是在训练的早期使用较大的学习率，以便更快地接近全局最优解。随着训练的进行，学习率逐渐减小，以提高模型的稳定性和收敛性。这种策略可以帮助模型跳出局部最优解并更好地探索参数空间。\n",
    "\n",
    "LR是优化器走过“损失景观”的步骤。LR越高，步长越大，收敛速度越快。然而，高LR的采样很差，优化器可能会陷入局部最小值。\n",
    "最好在训练期间降低学习率，以有效地达到损失函数的全局最小值。\n",
    "为了保持高LR的快速计算时间的优势，我根据需要（当精度没有提高时）每X步（epochs）动态降低LR。\n",
    "使用Keras.callback中的Reduce eLROnPlateau函数，如果3个epochs后精度没有提高，我选择将LR减少一半。"
   ]
  },
  {
   "cell_type": "code",
   "execution_count": 12,
   "metadata": {},
   "outputs": [
    {
     "name": "stderr",
     "output_type": "stream",
     "text": [
      "/usr/local/lib/python3.10/dist-packages/keras/src/optimizers/legacy/rmsprop.py:144: UserWarning: The `lr` argument is deprecated, use `learning_rate` instead.\n",
      "  super().__init__(name, **kwargs)\n"
     ]
    }
   ],
   "source": [
    "from tensorflow.keras.optimizers import legacy\n",
    "# 定义优化器\n",
    "# optimizer参数接受了legacy.RMSprop实例，这个实例使用了指定的学习率（lr）、衰减率（rho）和epsilon值。\n",
    "optimizer = legacy.RMSprop(lr=0.001, rho=0.9, epsilon=1e-08)\n",
    "# 编译模型\n",
    "# 将优化器、损失函数和评估指标配置到模型中。这里使用了\"categorical_crossentropy\"作为损失函数，适用于多类别分类问题。\n",
    "# metrics参数指定了评估指标，这里选择了准确率（accuracy）作为评估模型性能的指标。\n",
    "model.compile(optimizer = optimizer , loss = \"categorical_crossentropy\", metrics=[\"accuracy\"])"
   ]
  },
  {
   "cell_type": "code",
   "execution_count": 13,
   "metadata": {},
   "outputs": [],
   "source": [
    "# 定义了一个学习率退火（learning rate annealing）的方法，并设置了一些参数\n",
    "# monitor='val_acc'：监控的指标。这里使用了验证集的准确率作为监控指标。\n",
    "# patience=3：如果在连续3个epoch内没有看到验证指标有改善，则减小学习率。\n",
    "# verbose=1：输出学习率调整的信息。\n",
    "# factor=0.5：学习率减小的因子。当学习率调整时，将当前学习率乘以该因子。\n",
    "# min_lr=0.00001：学习率的下限。学习率将不会减小到小于这个值。\n",
    "learning_rate_reduction = ReduceLROnPlateau(monitor='val_acc', \n",
    "                                            patience=3, \n",
    "                                            verbose=1, \n",
    "                                            factor=0.5, \n",
    "                                            min_lr=0.00001)\n",
    "# 将epochs转换为30以获得0.9967精度\n",
    "# epochs表示训练的轮数，这里设置为1。\n",
    "epochs = 1\n",
    "# 表示每个批次训练的样本数，这里设置为86。\n",
    "batch_size = 86"
   ]
  },
  {
   "cell_type": "markdown",
   "metadata": {},
   "source": [
    "## 3.3 Data augmentation\n",
    "为了避免过度拟合问题，我们需要人为地扩展我们的手写数字数据集。我们可以使您现有的数据集更大。这个想法是通过小的转换来改变训练数据，以重现当有人写入数字时发生的变化。  \n",
    "例如，数字不居中比例不一样（一些用大/小数字书写的人）图像旋转…  \n",
    "以改变数组表示方式同时保持标签不变的方式改变训练数据的方法称为数据增强技术。人们使用的一些流行的增强是灰度、水平翻转、垂直翻转、随机裁剪、颜色抖动、平移、旋转等等。  \n",
    "通过对我们的训练数据应用其中的几个转换，我们可以轻松地将训练示例的数量增加一倍或三倍，并创建一个非常健壮的模型。\n",
    "\n",
    "改进很重要：  \n",
    "在没有数据增强的情况下，我获得了98.114%的准确率  \n",
    "通过数据增强，我达到了99.67%的准确率"
   ]
  },
  {
   "cell_type": "code",
   "execution_count": 14,
   "metadata": {},
   "outputs": [
    {
     "name": "stdout",
     "output_type": "stream",
     "text": [
      "440/440 - 29s - loss: 0.2442 - accuracy: 0.9229 - val_loss: 0.0822 - val_accuracy: 0.9721 - 29s/epoch - 66ms/step\n"
     ]
    }
   ],
   "source": [
    "# 在没有数据增强的情况下，我获得了98.114%的准确率\n",
    "# 使用了model.fit函数来训练模型，并传入了训练集数据X_train和标签Y_train，批次大小batch_size和训练轮数epochs。\n",
    "# 同时，你还提供了验证集数据X_val和标签Y_val作为验证数据，以便在训练过程中监控模型的性能。\n",
    "# verbose参数用于控制训练过程中的输出信息的详细程度。\n",
    "# verbose = 0：静默模式，不输出任何信息。\n",
    "# verbose = 1：默认模式，显示进度条和每个epoch的训练结果。\n",
    "# verbose = 2：安静模式，只显示每个epoch的训练结果。\n",
    "history = model.fit(X_train, Y_train, batch_size = batch_size, epochs = epochs, \n",
    "         validation_data = (X_val, Y_val), verbose = 2)\n"
   ]
  },
  {
   "cell_type": "code",
   "execution_count": 15,
   "metadata": {},
   "outputs": [],
   "source": [
    "# 具有数据增强以防止过拟合（精度0.99286）\n",
    "# 创建了一个ImageDataGenerator对象，并通过设置不同的参数来定义数据增强的方式。\n",
    "datagen = ImageDataGenerator(\n",
    "        # 布尔值，表示是否在整个数据集上将输入特征减去均值。\n",
    "        featurewise_center=False,  # set input mean to 0 over the dataset\n",
    "        # 布尔值，表示是否在每个样本上将输入特征减去均值。\n",
    "        samplewise_center=False,  # set each sample mean to 0\n",
    "        # 布尔值，表示是否在整个数据集上将输入特征除以标准差。\n",
    "        featurewise_std_normalization=False,  # divide inputs by std of the dataset\n",
    "        # 布尔值，表示是否在每个样本上将输入特征除以标准差。\n",
    "        samplewise_std_normalization=False,  # divide each input by its std\n",
    "        # 布尔值，表示是否应用ZCA白化。\n",
    "        zca_whitening=False,  # apply ZCA whitening\n",
    "        # 整数值，表示随机旋转图像的角度范围（0到180度）。\n",
    "        rotation_range=10,  # randomly rotate images in the range (degrees, 0 to 180)\n",
    "        # 浮点数或形如[lower, upper]的列表/元组，表示随机缩放图像的范围。\n",
    "        zoom_range = 0.1, # Randomly zoom image\n",
    "        # 浮点数，表示随机水平平移图像的范围（相对于总宽度的比例）。\n",
    "        width_shift_range=0.1,  # randomly shift images horizontally (fraction of total width)\n",
    "        # 浮点数，表示随机垂直平移图像的范围（相对于总高度的比例）。\n",
    "        height_shift_range=0.1,  # randomly shift images vertically (fraction of total height)\n",
    "        # 布尔值，表示是否随机水平翻转图像。\n",
    "        horizontal_flip=False,  # randomly flip images\n",
    "        # 布尔值，表示是否随机垂直翻转图像。\n",
    "        vertical_flip=False)  # randomly flip images\n",
    "\n",
    "# 将数据增强器应用到训练集数据X_train上，以便在每个epoch期间生成随机变换后的图像。\n",
    "datagen.fit(X_train)"
   ]
  },
  {
   "cell_type": "code",
   "execution_count": 16,
   "metadata": {},
   "outputs": [
    {
     "name": "stderr",
     "output_type": "stream",
     "text": [
      "/tmp/ipykernel_2840818/2276340005.py:13: UserWarning: `Model.fit_generator` is deprecated and will be removed in a future version. Please use `Model.fit`, which supports generators.\n",
      "  history = model.fit_generator(datagen.flow(X_train,Y_train, batch_size=batch_size),\n"
     ]
    },
    {
     "name": "stdout",
     "output_type": "stream",
     "text": [
      "WARNING:tensorflow:Learning rate reduction is conditioned on metric `val_acc` which is not available. Available metrics are: loss,accuracy,val_loss,val_accuracy,lr\n",
      "439/439 - 28s - loss: 0.1845 - accuracy: 0.9440 - val_loss: 0.0533 - val_accuracy: 0.9836 - lr: 0.0010 - 28s/epoch - 63ms/step\n"
     ]
    }
   ],
   "source": [
    "# Fit the model\n",
    "# datagen.flow()：将数据增强器应用到训练集数据X_train和标签Y_train上，并生成批次大小为batch_size的扩充样本。\n",
    "# 这个生成器会在每个epoch期间生成随机变换后的样本，并作为模型的输入。\n",
    "\n",
    "# epochs：表示训练的轮数。\n",
    "# validation_data=(X_val, Y_val)：指定验证集的数据X_val和标签Y_val，用于在训练过程中评估模型的性能。\n",
    "# verbose=2：以安静模式进行训练，只显示每个epoch的训练结果。\n",
    "\n",
    "# steps_per_epoch=X_train.shape[0] // batch_size：表示每个epoch中的步数，即每个epoch中要处理的批次数。\n",
    "# 这里使用整除操作符//来确保每个epoch中都能遍历完整个训练集。\n",
    "\n",
    "# callbacks=[]：通过回调函数列表指定了一个回调函数learning_rate_reduction，用于在训练过程中根据需要调整学习率。\n",
    "history = model.fit_generator(datagen.flow(X_train,Y_train, batch_size=batch_size),\n",
    "                              epochs = epochs, validation_data = (X_val,Y_val),\n",
    "                              verbose = 2, steps_per_epoch=X_train.shape[0] // batch_size\n",
    "                              , callbacks=[learning_rate_reduction])"
   ]
  },
  {
   "cell_type": "markdown",
   "metadata": {},
   "source": [
    "# 4.Evaluate the model\n",
    "## 4.1 Training and validation curves"
   ]
  },
  {
   "cell_type": "code",
   "execution_count": 17,
   "metadata": {},
   "outputs": [
    {
     "data": {
      "image/png": "[encoded data removed]",
      "text/plain": [
       "<Figure size 640x480 with 2 Axes>"
      ]
     },
     "metadata": {},
     "output_type": "display_data"
    }
   ],
   "source": [
    "# 绘制用于训练和验证的损失和准确度曲线\n",
    "# 创建了一个包含两个子图的图形对象，其中 2,1 表示两行一列的布局，即两个子图分别位于上下两行。\n",
    "fig, ax = plt.subplots(2,1)\n",
    "# 绘制了训练集的损失曲线，history.history['loss'] 是训练过程中记录的损失值的列表。\n",
    "# color='b' 指定线条颜色为蓝色，label=\"Training loss\" 设置了图例标签为 \"Training loss\"。\n",
    "ax[0].plot(history.history['loss'], color='b', label=\"Training loss\")\n",
    "# 绘制了验证集的损失曲线，color='r' 表示线条颜色为红色，label=\"validation loss\" 设置了图例标签为 \"Validation loss\"。\n",
    "ax[0].plot(history.history['val_loss'], color='r', label=\"validation loss\")\n",
    "# 添加了一个图例，loc='best' 表示图例位置自动选择最佳位置，shadow=True 表示显示阴影效果，以增强可读性。\n",
    "legend = ax[0].legend(loc='best', shadow=True)\n",
    " \n",
    "ax[1].plot(history.history['accuracy'], color='b', label=\"Training accuracy\")\n",
    "ax[1].plot(history.history['val_accuracy'], color='r',label=\"Validation accuracy\")\n",
    "legend = ax[1].legend(loc='best', shadow=True)"
   ]
  },
  {
   "cell_type": "markdown",
   "metadata": {},
   "source": [
    "下面的代码用于绘制训练和验证的损失和准确性曲线。因为，我在这个笔记本上设置了epochs=2。我将向您展示我从使用30个epochs（2h30）构建的模型中获得的训练和验证曲线。\n",
    "\n",
    "经过2个时期后，该模型在验证数据集上的准确率接近99%（98.7+%）。在训练过程中，验证准确率几乎每次都大于训练准确率。这意味着我们的模型不会过度拟合训练集。  \n",
    "我们的模型训练有素！！！\n",
    "## 4.2 Confusion matrix\n",
    "混淆矩阵可以非常有帮助地看到您的模型缺点。  \n",
    "我绘制了验证结果的混淆矩阵。"
   ]
  },
  {
   "cell_type": "code",
   "execution_count": 18,
   "metadata": {},
   "outputs": [
    {
     "name": "stdout",
     "output_type": "stream",
     "text": [
      "132/132 [==============================] - 1s 5ms/step\n"
     ]
    },
    {
     "data": {
      "image/png": "[encoded data removed]",
      "text/plain": [
       "<Figure size 640x480 with 2 Axes>"
      ]
     },
     "metadata": {},
     "output_type": "display_data"
    }
   ],
   "source": [
    "# 这段代码用于绘制混淆矩阵（Confusion Matrix）的图形，可以通过设置“规范化=True”来应用规范化。\n",
    "# cm：混淆矩阵的数据。\n",
    "# classes：分类的类别标签。\n",
    "# normalize：是否对混淆矩阵进行归一化，默认为 False。\n",
    "# title：图形的标题，默认为 \"Confusion matrix\"。\n",
    "# cmap：使用的颜色图谱，默认为 plt.cm.Blues。\n",
    "def plot_confusion_matrix(cm, classes,\n",
    "                          normalize=False,\n",
    "                          title='Confusion matrix',\n",
    "                          cmap=plt.cm.Blues):\n",
    "    # 使用 plt.imshow 来绘制混淆矩阵，interpolation='nearest' 指定了插值方法，cmap=cmap 指定了颜色图谱。\n",
    "    plt.imshow(cm, interpolation='nearest', cmap=cmap)\n",
    "    # 设置图形的标题\n",
    "    plt.title(title)\n",
    "    # 添加颜色条\n",
    "    plt.colorbar()\n",
    "    # 设置坐标轴刻度的标签\n",
    "    tick_marks = np.arange(len(classes))\n",
    "    # 设置坐标轴刻度的位置\n",
    "    plt.xticks(tick_marks, classes, rotation=45)\n",
    "    plt.yticks(tick_marks, classes)\n",
    "\n",
    "    # 如果 normalize 参数为 True，则将混淆矩阵进行归一化处理，使得每一行的和为 1。\n",
    "    if normalize:\n",
    "        cm = cm.astype('float') / cm.sum(axis=1)[:, np.newaxis]\n",
    "    # 通过计算 cm 的最大值的一半来确定文本颜色的阈值。\n",
    "    thresh = cm.max() / 2.\n",
    "    # 使用嵌套的循环遍历混淆矩阵的每个元素，并使用 plt.text 在图形中的相应位置上显示混淆矩阵的值。\n",
    "    for i, j in itertools.product(range(cm.shape[0]), range(cm.shape[1])):\n",
    "        # 如果值大于阈值，则使用白色显示，否则使用黑色显示。\n",
    "        plt.text(j, i, cm[i, j],\n",
    "                 horizontalalignment=\"center\",\n",
    "                 color=\"white\" if cm[i, j] > thresh else \"black\")\n",
    "    # 调整图形布局\n",
    "    plt.tight_layout()\n",
    "    # 设置坐标轴的标签。\n",
    "    plt.ylabel('True label')\n",
    "    plt.xlabel('Predicted label')\n",
    "\n",
    "# 使用训练好的模型 model 对验证数据集 X_val 进行预测，得到预测结果 Y_pred。\n",
    "Y_pred = model.predict(X_val)\n",
    "# 通过 np.argmax 将预测结果和验证集的真实标签转换为独热编码的形式，分别得到 Y_pred_classes 和 Y_true。 \n",
    "Y_pred_classes = np.argmax(Y_pred,axis = 1) \n",
    "Y_true = np.argmax(Y_val,axis = 1) \n",
    "# 计算混淆矩阵，将真实标签 Y_true 和预测标签 Y_pred_classes 作为输入。\n",
    "confusion_mtx = confusion_matrix(Y_true, Y_pred_classes) \n",
    "# 传入混淆矩阵和类别标签参数，绘制混淆矩阵的图形。\n",
    "plot_confusion_matrix(confusion_mtx, classes = range(10)) "
   ]
  },
  {
   "cell_type": "markdown",
   "metadata": {},
   "source": [
    "在这里，我们可以看到我们的CNN在所有数字上都表现得非常好，考虑到验证集的大小（4 200张图像），几乎没有错误。  \n",
    "然而，我们的CNN似乎在4位数字上有一些小问题，他们被错误地归类为9。有时候当曲线平滑时，很难捕捉到4和9之间的区别。  \n",
    "## 4.3 handle results\n",
    "让我们调查错误。  \n",
    "我想看到最重要的错误。为此，我需要得到结果中真实值和预测值的概率之间的差异。"
   ]
  },
  {
   "cell_type": "code",
   "execution_count": 19,
   "metadata": {},
   "outputs": [
    {
     "data": {
      "image/png": "[encoded data removed]",
      "text/plain": [
       "<Figure size 640x480 with 6 Axes>"
      ]
     },
     "metadata": {},
     "output_type": "display_data"
    }
   ],
   "source": [
    "# 这段代码用于显示分类模型中的一些错误结果。\n",
    "\n",
    "# 通过计算预测标签和真实标签之间的差异，确定哪些样本被错误分类，将结果存储在名为 errors 的布尔数组中。\n",
    "errors = (Y_pred_classes - Y_true != 0)\n",
    "Y_pred_classes_errors = Y_pred_classes[errors]\n",
    "Y_pred_errors = Y_pred[errors]\n",
    "Y_true_errors = Y_true[errors]\n",
    "X_val_errors = X_val[errors]\n",
    "\n",
    "# 定义了一个名为 display_errors 的函数，用于显示6个错误分类的样本图像、预测标签和真实标签。\n",
    "def display_errors(errors_index,img_errors,pred_errors, obs_errors):\n",
    "    # 函数通过创建一个2行3列的子图布局，并在每个子图中显示一个错误分类的图像。\n",
    "    n = 0\n",
    "    nrows = 2\n",
    "    ncols = 3\n",
    "    fig, ax = plt.subplots(nrows,ncols,sharex=True,sharey=True)\n",
    "    for row in range(nrows):\n",
    "        for col in range(ncols):\n",
    "            error = errors_index[n]\n",
    "            # 图像被重新调整为28x28的形状\n",
    "            ax[row,col].imshow((img_errors[error]).reshape((28,28)))\n",
    "            # 在子图标题中显示预测标签和真实标签\n",
    "            ax[row,col].set_title(\"Predicted label :{}\\nTrue label :{}\".format(pred_errors[error],obs_errors[error]))\n",
    "            n += 1\n",
    "\n",
    "# 通过计算错误预测的数字的概率分布，将结果存储在 Y_pred_errors_prob 中。\n",
    "Y_pred_errors_prob = np.max(Y_pred_errors,axis = 1)\n",
    "\n",
    "# 计算错误分类样本中真实标签的预测概率，并将结果存储在 true_prob_errors 中。\n",
    "true_prob_errors = np.diagonal(np.take(Y_pred_errors, Y_true_errors, axis=1))\n",
    "\n",
    "# 计算预测标签和真实标签之间概率差异的大小，并将结果存储在 delta_pred_true_errors 中。\n",
    "delta_pred_true_errors = Y_pred_errors_prob - true_prob_errors\n",
    "\n",
    "# 对概率差异进行排序，并将结果存储在 sorted_dela_errors 中。\n",
    "sorted_dela_errors = np.argsort(delta_pred_true_errors)\n",
    "\n",
    "# 选择概率差异最大的前6个错误分类，并将结果存储在 most_important_errors 中。\n",
    "most_important_errors = sorted_dela_errors[-6:]\n",
    "\n",
    "# 传入最重要的错误分类索引、错误分类的图像数据、预测标签和真实标签，以显示最重要的6个错误分类的样本图像和标签。\n",
    "display_errors(most_important_errors, X_val_errors, Y_pred_classes_errors, Y_true_errors)\n",
    "\n",
    "# 最重要的错误也是最有趣的。\n",
    "# 对于这六个案例，模型并不荒谬。其中一些错误也可能是人类犯的，尤其是对于一个非常接近4的9。最后9也很误导人，对我来说似乎是0。"
   ]
  },
  {
   "cell_type": "code",
   "execution_count": 20,
   "metadata": {},
   "outputs": [
    {
     "name": "stdout",
     "output_type": "stream",
     "text": [
      "875/875 [==============================] - 4s 5ms/step\n"
     ]
    }
   ],
   "source": [
    "# 用于对测试数据进行预测，并将预测结果保存在一个名为 results 的变量中。\n",
    "\n",
    "# 通过调用模型的 predict 方法对测试数据 test 进行预测，得到预测结果 results。预测结果是一个概率分布，表示每个类别的预测概率。\n",
    "results = model.predict(test)\n",
    "# 通过使用 np.argmax 函数选择概率分布中概率最大的索引，作为最终的预测结果。这相当于选择概率最大的类别作为预测的标签。\n",
    "results = np.argmax(results,axis = 1)\n",
    "# 将预测结果转换为一个名为 \"Label\" 的 pd.Series 对象，并将其保存在 results 变量中。\n",
    "results = pd.Series(results,name=\"Label\")"
   ]
  },
  {
   "cell_type": "code",
   "execution_count": 21,
   "metadata": {},
   "outputs": [],
   "source": [
    "# 创建一个包含序列号的 pd.Series 对象，范围从1到28000，名称为 \"ImageId\"。\n",
    "submission = pd.concat([pd.Series(range(1,28001),name = \"ImageId\"),results],axis = 1)\n",
    "# 调用 to_csv 方法，将这个数据框保存为一个名为 \"cnn_mnist_datagen.csv\" 的CSV文件。\n",
    "# index=False 参数表示不将行索引写入CSV文件，只保留列数据。\n",
    "submission.to_csv(\"cnn_mnist_datagen.csv\",index=False)"
   ]
  }
 ],
 "metadata": {
  "kernelspec": {
   "display_name": "Python 3",
   "language": "python",
   "name": "python3"
  },
  "language_info": {
   "codemirror_mode": {
    "name": "ipython",
    "version": 3
   },
   "file_extension": ".py",
   "mimetype": "text/x-python",
   "name": "python",
   "nbconvert_exporter": "python",
   "pygments_lexer": "ipython3",
   "version": "3.10.12"
  }
 },
 "nbformat": 4,
 "nbformat_minor": 2
}
