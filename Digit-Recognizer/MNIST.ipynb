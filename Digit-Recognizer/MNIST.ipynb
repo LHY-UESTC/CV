{
 "cells": [
  {
   "cell_type": "markdown",
   "metadata": {},
   "source": [
    "# 1.Introduction\n",
    "这是一个在MNIST数据集上训练的用于数字识别的5层顺序卷积神经网络。我选择使用keras API（Tensorflow后端）构建它，这非常直观。首先，我将准备数据（手写数字图像），然后我将专注于CNN建模和评估。\n",
    "我在2h30在单个CPU（i52500k）上训练了这个CNN，达到了99.671%的准确率。对于那些拥有>=3.0 GPU功能（从GTX 650到最近的GPU）的人，您可以将tenorflow-gpu与keras一起使用。计算会快得多！！！\n",
    "出于计算原因，我将步数（纪元）设置为2，如果您想达到99+%的精度，请将其设置为30。  \n",
    "本笔记本分为三个主要部分：  \n",
    "数据准备  \n",
    "CNN建模与评估  \n",
    "结果预测和提交  "
   ]
  },
  {
   "cell_type": "code",
   "execution_count": 62,
   "metadata": {},
   "outputs": [],
   "source": [
    "import pandas as pd\n",
    "import numpy as np\n",
    "import matplotlib.pyplot as plt\n",
    "import matplotlib.image as mpimg\n",
    "import seaborn as sns\n",
    "%matplotlib inline\n",
    "\n",
    "np.random.seed(2)\n",
    "\n",
    "from sklearn.model_selection import train_test_split\n",
    "from sklearn.metrics import confusion_matrix\n",
    "import itertools\n",
    "\n",
    "from keras.utils import to_categorical # convert to one-hot-encoding\n",
    "from keras.models import Sequential\n",
    "from keras.layers import Dense, Dropout, Flatten, Conv2D, MaxPool2D\n",
    "from keras.optimizers import RMSprop\n",
    "from keras.preprocessing.image import ImageDataGenerator\n",
    "from keras.callbacks import ReduceLROnPlateau\n",
    "\n",
    "\n",
    "sns.set(style='white', context='notebook', palette='deep')"
   ]
  },
  {
   "cell_type": "markdown",
   "metadata": {},
   "source": [
    "# 2.Data preparation\n",
    "## 2.1 Load data"
   ]
  },
  {
   "cell_type": "code",
   "execution_count": 63,
   "metadata": {},
   "outputs": [],
   "source": [
    "# Load the data\n",
    "train = pd.read_csv(\"./digit-recognizer/train.csv\")\n",
    "test = pd.read_csv(\"./digit-recognizer/test.csv\")\n",
    "# train = pd.read_csv(\"./digit-recognizer/train.csv\", nrows = 2000)\n",
    "# test = pd.read_csv(\"./digit-recognizer/test.csv\", nrows = 2000)"
   ]
  },
  {
   "cell_type": "code",
   "execution_count": 64,
   "metadata": {},
   "outputs": [
    {
     "data": {
      "text/plain": [
       "label\n",
       "1    4684\n",
       "7    4401\n",
       "3    4351\n",
       "9    4188\n",
       "2    4177\n",
       "6    4137\n",
       "0    4132\n",
       "4    4072\n",
       "8    4063\n",
       "5    3795\n",
       "Name: count, dtype: int64"
      ]
     },
     "execution_count": 64,
     "metadata": {},
     "output_type": "execute_result"
    }
   ],
   "source": [
    "# 将训练数据集中的\"label\"列提取出来，并赋值给变量Y_train。这表示目标变量（或标签），它包含了训练样本的正确分类。\n",
    "Y_train = train[\"label\"]\n",
    "# 这一行代码从训练数据集中删除了\"label\"列，并将剩余的特征数据赋值给变量X_train。\n",
    "X_train = train.drop(labels = [\"label\"],axis = 1) \n",
    "# 将名为train的数据集从内存中删除，以释放一些空间。\n",
    "del train \n",
    "# 使用Seaborn库绘制了Y_train中不同类别的计数直方图。\n",
    "# g = sns.countplot(X_train)\n",
    "# 计算了Y_train中每个类别的样本数量，并返回一个包含每个类别及其对应样本数量的Series对象。\n",
    "Y_train.value_counts()\n",
    "# 10个数的频率相差不大"
   ]
  },
  {
   "cell_type": "markdown",
   "metadata": {},
   "source": [
    "## 2.2 Check for null and missing values"
   ]
  },
  {
   "cell_type": "code",
   "execution_count": 65,
   "metadata": {},
   "outputs": [
    {
     "data": {
      "text/plain": [
       "count       784\n",
       "unique        1\n",
       "top       False\n",
       "freq        784\n",
       "dtype: object"
      ]
     },
     "execution_count": 65,
     "metadata": {},
     "output_type": "execute_result"
    }
   ],
   "source": [
    "# Check the data\n",
    "# X_train.isnull(): 这一部分代码检查X_train中的每个元素是否为缺失值（NaN）。\n",
    "# any()方法在布尔值数据框的列上执行逻辑或操作，返回一个包含每列是否存在缺失值的布尔值Series。\n",
    "# describe()方法计算布尔值Series的描述性统计信息\n",
    "X_train.isnull().any().describe()\n",
    "# count：表示非缺失值的数量。\n",
    "# unique：表示唯一值的数量。\n",
    "# top：表示出现频率最高的值。\n",
    "# freq：表示出现频率最高的值的频率。\n",
    "# dtype：表示数据类型。"
   ]
  },
  {
   "cell_type": "code",
   "execution_count": 66,
   "metadata": {},
   "outputs": [
    {
     "data": {
      "text/plain": [
       "count       784\n",
       "unique        1\n",
       "top       False\n",
       "freq        784\n",
       "dtype: object"
      ]
     },
     "execution_count": 66,
     "metadata": {},
     "output_type": "execute_result"
    }
   ],
   "source": [
    "test.isnull().any().describe()"
   ]
  },
  {
   "cell_type": "markdown",
   "metadata": {},
   "source": [
    "我检查损坏的图像（内部缺少值）。\n",
    "训练和测试数据集中没有缺失值。所以我们可以安全地继续。\n",
    "\n",
    "## 2.3 Normalization\n",
    "我们执行灰度归一化以减少光照差异的影响。\n",
    "此外，CNN在[0…1]数据上的转换速度比在[0…255]上的转换速度更快。"
   ]
  },
  {
   "cell_type": "code",
   "execution_count": 67,
   "metadata": {},
   "outputs": [],
   "source": [
    "# Normalize the data\n",
    "# 将X_train数据集中的所有像素值除以255.0。\n",
    "# 由于像素值通常范围在0到255之间（对应灰度图像的颜色强度），除以255.0可以将像素值缩放到0到1的范围内。\n",
    "X_train = X_train / 255.0\n",
    "test = test / 255.0"
   ]
  },
  {
   "cell_type": "markdown",
   "metadata": {},
   "source": [
    "## 2.4 Reshape"
   ]
  },
  {
   "cell_type": "code",
   "execution_count": 68,
   "metadata": {},
   "outputs": [],
   "source": [
    "# Reshape image in 3 dimensions (height = 28px, width = 28px , canal = 1)\n",
    "# 将X_train数据集的形状进行重塑。原本的X_train数据集是一个二维的矩阵，每一行代表一张图像，每一列代表图像的像素值。\n",
    "# 通过reshape()方法，将图像数据集重塑为一个四维矩阵，其中-1表示根据数据集大小自动计算行数，\n",
    "# 28表示图像的高度（28像素），28表示图像的宽度（28像素），1表示通道数（此处为灰度图像，通道数为1）。\n",
    "X_train = X_train.values.reshape(-1,28,28,1)\n",
    "test = test.values.reshape(-1,28,28,1)"
   ]
  },
  {
   "cell_type": "markdown",
   "metadata": {},
   "source": [
    "训练和测试图像（28px x 28px）已存入pandas。数据帧作为784个值的一维向量。我们将所有数据重塑为28x28x1 3D矩阵。\n",
    "Keras最终需要一个额外的维度来对应通道。MNIST图像是灰度缩放的，因此它只使用一个通道。对于RGB图像，有3个通道，我们会将784px向量重塑为28x28x3 3D矩阵。\n",
    "## 2.5 Label encoding"
   ]
  },
  {
   "cell_type": "code",
   "execution_count": 69,
   "metadata": {},
   "outputs": [],
   "source": [
    "# Encode labels to one hot vectors (ex : 2 -> [0,0,1,0,0,0,0,0,0,0])\n",
    "# to_categorical是一个函数或方法（可能是自定义的），用于将标签数据进行独热编码。\n",
    "# Y_train是原始的标签数据。\n",
    "# num_classes指定了独热编码后向量的长度，这里设为10，代表总共有10个类别。\n",
    "Y_train = to_categorical(Y_train, num_classes = 10)"
   ]
  },
  {
   "cell_type": "markdown",
   "metadata": {},
   "source": [
    "标签是从0到9的10位数字。我们需要将这些标签编码为一个热向量（例如：2->[0,0,1,0,0,0,0,0,0]）。\n",
    "## 2.6 Split training and valdiation set\n",
    "我选择将训练集分成两部分：一小部分（10%）成为评估模型的验证集，其余部分（90%）用于训练模型。\n",
    "\n",
    "由于我们有42 000个平衡标签的训练图像（参见2.1 Load数据），因此随机拆分训练集不会导致某些标签在验证集中过度表示。小心一些不平衡的数据集，简单的随机拆分可能会导致验证期间的评估不准确。\n",
    "\n",
    "为了避免这种情况，您可以在train_test_split函数中使用stratify=True选项（仅适用于>=0.17 sklearn版本）。"
   ]
  },
  {
   "cell_type": "code",
   "execution_count": 70,
   "metadata": {},
   "outputs": [],
   "source": [
    "# 通过设置随机种子，可以使随机过程在每次运行时都产生相同的结果，以保证实验的可重复性。\n",
    "random_seed = 2\n",
    "# 使用train_test_split函数将训练数据集X_train和标签数据集Y_train拆分成训练集X_train、验证集X_val、训练集标签Y_train和验证集标签Y_val。\n",
    "# X_train和Y_train是原始的训练数据集和标签数据集。\n",
    "# test_size = 0.1表示将10%的数据分配给验证集，即验证集占总训练数据的比例为10%。\n",
    "# random_state=random_seed表示使用之前设置的随机种子2来控制数据的拆分过程，确保每次运行时都得到相同的拆分结果。\n",
    "X_train, X_val, Y_train, Y_val = train_test_split(X_train, Y_train, test_size = 0.1, random_state=random_seed)"
   ]
  },
  {
   "cell_type": "code",
   "execution_count": 71,
   "metadata": {},
   "outputs": [
    {
     "data": {
      "image/png": "[encoded data removed]",
      "text/plain": [
       "<Figure size 640x480 with 1 Axes>"
      ]
     },
     "metadata": {},
     "output_type": "display_data"
    }
   ],
   "source": [
    "# 我们可以通过视觉化图像和查看标签来更好地理解其中一个例子。\n",
    "# X_train是训练集数据，其中索引为0的样本被选中进行可视化。\n",
    "# X_train[0]表示训练集中的第一个样本。\n",
    "# [:,:,0]表示选择第一个样本的所有行和列，并且选择通道为0的部分。\n",
    "# 这里的0表示灰度图像的通道索引，因为之前的操作将图像数据重塑为四维张量，其中最后一个维度是通道维度。\n",
    "g = plt.imshow(X_train[0][:,:,0])"
   ]
  },
  {
   "cell_type": "markdown",
   "metadata": {},
   "source": [
    "# 3.CNN\n",
    "## 3.1 Define the model\n",
    "我使用了Keras Sequential API，您只需一次添加一层，从输入开始。\n",
    "\n",
    "第一个是卷积（Conv2D）层。它就像一组可学习的过滤器。我选择为两个第一个卷积2D层设置32个过滤器，为最后两个设置64个过滤器。每个过滤器使用内核过滤器转换图像的一部分（由内核大小定义）。内核过滤器矩阵应用于整个图像。过滤器可以看作是图像的转换。\n",
    "\n",
    "CNN可以从这些转换后的图像（特征图）中分离出在任何地方都有用的特征。\n",
    "\n",
    "CNN中的第二个重要层是池化（MaxPool2D）层。该层简单地充当下采样过滤器。它查看2个相邻像素并选择最大值。这些用于降低计算成本，并在某种程度上减少过拟合。我们必须选择池化大小（即每次池化的区域大小）池化维度越高，下采样就越重要。\n",
    "\n",
    "结合卷积层和池化层，CNN能够结合局部特征并学习图像的更多全局特征。\n",
    "\n",
    "Dropout是一种正则化方法，对于每个训练样本，层中的一部分节点被随机忽略（将它们的重量设置为零）。这会随机丢弃网络的比例，并迫使网络以分布式方式学习特征。这种技术还提高了泛化并减少了过拟合。\n",
    "\n",
    "'relu'是整流器（激活函数max（0， x）。整流器激活函数用于向网络添加非线性。\n",
    "\n",
    "扁平化层用于将最终的特征图转换为一个单一的一维向量。需要这个扁平化步骤，以便您可以在一些卷积/最大池层之后使用完全连接的层。它结合了以前卷积层的所有发现的局部特征。\n",
    "\n",
    "最后，我在两个全连接（密集）层中使用了特征，这只是人工神经网络（ANN）分类器。在最后一层（密集（10，激活=\"softmax\"））中，网络输出每个类的概率分布。"
   ]
  },
  {
   "cell_type": "code",
   "execution_count": 72,
   "metadata": {},
   "outputs": [],
   "source": [
    "# Set the CNN model \n",
    "# my CNN architechture is In -> [[Conv2D->relu]*2 -> MaxPool2D -> Dropout]*2 -> Flatten -> Dense -> Dropout -> Out\n",
    "# 创建一个Sequential模型对象，用于构建CNN模型。\n",
    "model = Sequential()\n",
    "# 添加第一个卷积层。这个卷积层有32个滤波器（filters），每个滤波器的大小为5x5。\n",
    "# padding参数设置为'Same'，表示使用零填充来保持输入和输出的大小相同。激活函数使用ReLU。\n",
    "# input_shape参数指定输入的形状为(28, 28, 1)，即图像的高度为28像素，宽度为28像素，通道数为1（灰度图像）。\n",
    "model.add(Conv2D(filters = 32, kernel_size = (5,5),padding = 'Same', \n",
    "                 activation ='relu', input_shape = (28,28,1)))\n",
    "# 添加第二个卷积层，与前面的卷积层类似。\n",
    "model.add(Conv2D(filters = 32, kernel_size = (5,5),padding = 'Same', \n",
    "                 activation ='relu'))\n",
    "# 添加最大池化层。这个池化层的池化窗口大小为2x2，通过降低特征图的空间尺寸来减少参数数量。\n",
    "model.add(MaxPool2D(pool_size=(2,2)))\n",
    "# 添加一个dropout层，以减少过拟合。这里的0.25表示丢弃输入单元的比例为25%。\n",
    "model.add(Dropout(0.25))\n",
    "\n",
    "\n",
    "model.add(Conv2D(filters = 64, kernel_size = (3,3),padding = 'Same', \n",
    "                 activation ='relu'))\n",
    "model.add(Conv2D(filters = 64, kernel_size = (3,3),padding = 'Same', \n",
    "                 activation ='relu'))\n",
    "model.add(MaxPool2D(pool_size=(2,2), strides=(2,2)))\n",
    "model.add(Dropout(0.25))\n",
    "\n",
    "# 展平层（将多维输入展平为一维）\n",
    "model.add(Flatten())\n",
    "# 一个全连接层（256个神经元，使用ReLU激活函数）\n",
    "model.add(Dense(256, activation = \"relu\"))\n",
    "# 一个dropout层（丢弃输入单元的比例为50%）\n",
    "model.add(Dropout(0.5))\n",
    "# 一个全连接层（10个神经元，使用softmax激活函数）\n",
    "model.add(Dense(10, activation = \"softmax\"))"
   ]
  },
  {
   "cell_type": "markdown",
   "metadata": {},
   "source": [
    "## 3.2 Set the optimizer and annealer\n",
    "一旦我们的层被添加到模型中，我们需要设置一个分数函数、一个损失函数和一个优化算法。\n",
    "\n",
    "我们定义损失函数来衡量我们的模型在具有已知标签的图像上的表现有多差。它是观察标签和预测标签之间的错误率。我们使用一种特定的形式进行分类（>2类），称为“categorical_crossentropy”。\n",
    "\n",
    "最重要的功能是优化器。该函数将迭代改进参数（过滤内核值、权重和神经元的偏差……）以最大限度地减少损失。\n",
    "\n",
    "我选择了RMSprop（具有默认值），它是一个非常有效的优化器。RMSProp更新以非常简单的方式调整Adagrad方法，试图降低其激进的、单调递减的学习率。我们也可以使用随机梯度下降（'sgd'）优化器，但它比RMSprop慢。\n",
    "\n",
    "使用的度量函数“准确度”是评估我们模型的性能，这个度量函数与损失函数类似，只是训练模型时不使用度量评估的结果（仅用于评估）。"
   ]
  }
 ],
 "metadata": {
  "kernelspec": {
   "display_name": "Python 3",
   "language": "python",
   "name": "python3"
  },
  "language_info": {
   "codemirror_mode": {
    "name": "ipython",
    "version": 3
   },
   "file_extension": ".py",
   "mimetype": "text/x-python",
   "name": "python",
   "nbconvert_exporter": "python",
   "pygments_lexer": "ipython3",
   "version": "3.10.12"
  }
 },
 "nbformat": 4,
 "nbformat_minor": 2
}
